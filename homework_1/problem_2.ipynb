{
 "cells": [
  {
   "cell_type": "markdown",
   "id": "2c0fa24b",
   "metadata": {},
   "source": [
    "# Problem 2 (The Numerical Square Root Finding Algorithm)\n",
    "\n",
    "\n",
    "The goal of this problem is to give you a taste of iterative numerical conversion. The square root $\\sqrt{a}$ for most positive real numbers $a$ are irrational numbers and is not easy to calculate. Since 1,500 BC, ancient Babylonians have been using the following iterative method to find square roots. The method works as follows:\n",
    "\n",
    "Assume $x^{(0)}$ is the initial solution, say some random positive number. \n",
    "\n",
    "We then iteratively calculate the following sequence of solutions $x^{(1)},x^{(2)},\\dots$, where each solution:\n",
    "\\begin{equation}\n",
    "    x^{(j+1)}=\\frac{1}{2}(x^{(j)}+\\frac{a}{x^{(j)}})\n",
    "\\end{equation}\n",
    "for $j=0,1,\\dots$"
   ]
  },
  {
   "cell_type": "markdown",
   "id": "def6d125",
   "metadata": {},
   "source": [
    "### Part 1\n",
    "Implement the above simple root finding algorithm using your favorite programming language (e.g., python, MATLAB, C, Java, etc.) and see if the algorithm works with some examples and compare the results from a calculator."
   ]
  },
  {
   "cell_type": "code",
   "execution_count": 12,
   "id": "8bd723bf",
   "metadata": {},
   "outputs": [
    {
     "name": "stdout",
     "output_type": "stream",
     "text": [
      "Number   Babylonian      Calculator      Error        Iterations\n",
      "------------------------------------------------------------\n",
      "2        1.41421356      1.41421356      2.22e-16     5\n",
      "3        1.73205081      1.73205081      0.00e+00     6\n",
      "5        2.23606798      2.23606798      0.00e+00     6\n",
      "10       3.16227766      3.16227766      4.44e-16     7\n",
      "25       5.00000000      5.00000000      0.00e+00     7\n",
      "50       7.07106781      7.07106781      0.00e+00     8\n",
      "100      10.00000000     10.00000000     0.00e+00     9\n"
     ]
    }
   ],
   "source": [
    "import math\n",
    "\n",
    "def babylonian_sqrt(a, x0=1.0, tolerance=1e-10, \n",
    "                   max_iterations=100):\n",
    "    x = x0\n",
    "    for j in range(max_iterations):\n",
    "        x_next = 0.5 * (x + a / x)\n",
    "        if abs(x_next - x) < tolerance:\n",
    "            return x_next, j + 1\n",
    "        x = x_next\n",
    "    return x, max_iterations\n",
    "\n",
    "# Test cases comparing Babylonian method \n",
    "# with calculator\n",
    "test_cases = [2, 3, 5, 10, 25, 50, 100]\n",
    "\n",
    "print(f\"{'Number':<8} {'Babylonian':<15} \"\n",
    "      f\"{'Calculator':<15} {'Error':<12} \"\n",
    "      f\"{'Iterations'}\")\n",
    "print(\"-\" * 60)\n",
    "\n",
    "for a in test_cases:\n",
    "    result, iters = babylonian_sqrt(a)\n",
    "    actual = math.sqrt(a)\n",
    "    error = abs(result - actual)\n",
    "    print(f\"{a:<8} {result:<15.8f} \"\n",
    "          f\"{actual:<15.8f} {error:<12.2e} \"\n",
    "          f\"{iters}\")"
   ]
  }
 ],
 "metadata": {
  "kernelspec": {
   "display_name": "Python 3",
   "language": "python",
   "name": "python3"
  },
  "language_info": {
   "codemirror_mode": {
    "name": "ipython",
    "version": 3
   },
   "file_extension": ".py",
   "mimetype": "text/x-python",
   "name": "python",
   "nbconvert_exporter": "python",
   "pygments_lexer": "ipython3",
   "version": "3.10.12"
  }
 },
 "nbformat": 4,
 "nbformat_minor": 5
}
